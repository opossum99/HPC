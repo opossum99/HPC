{
 "cells": [
  {
   "cell_type": "code",
   "execution_count": 1,
   "id": "30c51bea",
   "metadata": {},
   "outputs": [],
   "source": [
    "import numpy as np\n",
    "import matplotlib.pyplot as plt\n",
    "\n",
    "data = np.loadtxt(\"data.txt\")\n",
    "\n",
    "for i in range(100):\n",
    "    plt.figure(figsize=(15, 20))\n",
    "    plt.imshow(data[i*100: (i+1)*100], vmin = -1.0, vmax = 1.0)\n",
    "    plt.savefig(\"./imgs/\" + str(i)+\".png\")\n",
    "    plt.close()"
   ]
  },
  {
   "cell_type": "code",
   "execution_count": 2,
   "id": "fab8643a",
   "metadata": {},
   "outputs": [
    {
     "name": "stdout",
     "output_type": "stream",
     "text": [
      "(10000, 200)\n"
     ]
    }
   ],
   "source": [
    "print(data.shape)"
   ]
  },
  {
   "cell_type": "code",
   "execution_count": 6,
   "id": "53fadbc1",
   "metadata": {},
   "outputs": [],
   "source": [
    "#make gif from every image that we have\n",
    "import cv2\n",
    "import os                                             \n",
    "import imageio\n",
    "import numpy as np\n",
    "\n",
    "image_folder = './imgs'\n",
    "video_name = 'result.gif'\n",
    "\n",
    "images = [img for img in os.listdir(image_folder) if img.endswith(\".png\")]\n",
    "keys = [int(image[:-4]) for image in images]\n",
    "xx = np.argsort(keys)\n",
    "images = np.array(images)[xx]\n",
    "\n",
    "with imageio.get_writer(video_name, mode='I') as writer:\n",
    "    for filename in images:\n",
    "        image = imageio.imread(image_folder + \"/\" + filename)\n",
    "        writer.append_data(image)"
   ]
  },
  {
   "cell_type": "code",
   "execution_count": null,
   "id": "e06e3111",
   "metadata": {},
   "outputs": [],
   "source": []
  },
  {
   "cell_type": "code",
   "execution_count": null,
   "id": "a183c492",
   "metadata": {},
   "outputs": [],
   "source": []
  },
  {
   "cell_type": "code",
   "execution_count": null,
   "id": "a895b4cd",
   "metadata": {},
   "outputs": [],
   "source": []
  }
 ],
 "metadata": {
  "kernelspec": {
   "display_name": "Python 3 (ipykernel)",
   "language": "python",
   "name": "python3"
  },
  "language_info": {
   "codemirror_mode": {
    "name": "ipython",
    "version": 3
   },
   "file_extension": ".py",
   "mimetype": "text/x-python",
   "name": "python",
   "nbconvert_exporter": "python",
   "pygments_lexer": "ipython3",
   "version": "3.10.12"
  }
 },
 "nbformat": 4,
 "nbformat_minor": 5
}
